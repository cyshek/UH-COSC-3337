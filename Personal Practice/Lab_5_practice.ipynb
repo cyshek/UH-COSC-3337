{
 "cells": [
  {
   "cell_type": "code",
   "execution_count": null,
   "id": "3c07d307",
   "metadata": {},
   "outputs": [],
   "source": [
    "# titanic_data is our dataframe\n",
    "# sns.barplot(x = titanic_data.columns, y=titanic_data.isnull().sum().values) \n",
    "# ^ Creates barplot that shows how many null values there are for each column\n",
    "# titanic_data.isnull().sum()   ***Displayes column sames and the sum of each of their null values***\n",
    "# sns.countplot(x = titanic_data['...'])\n",
    "# ^ lists all of the unique values in that column along the x-axis, and plots the total count for each unique value along the y-axis\n",
    "# sns.countplot(x = titanic_data['Survived'], hue = 'Sex', data = titanic_data)\n",
    "# hue tells how many from 'Survived' were either male or female\n",
    "# plt.show()\n",
    "# .dropna(inplace = True) removes missing values from a data frame\n",
    "# .fillna(titanic_data['...'].mean(), inplace = True)  ***Replaces missing values with the mean of the column***\n",
    "# If we don't add \"inplace\" to both of the above functions, it will not modify the original dataframe, but rather return a new one\n",
    "\n",
    "# Now we need to handle categorical variables since ML algos only understand numbers\n",
    "# this is where pd.get_dummies is important\n",
    "# titanic_data = pd.get_dummies(data = titanic_data, columns = ['...', '...'], drop_first = True)\n",
    "# titanic_data = pd.get_dummies(data=titanic_data, columns=['Sex', 'Embarked'], drop_first=True)\n",
    "# ^ gets dummy variables for 'Sex' and 'Embarked' that have values in the form of 0 or 1\n",
    "# ^ drop_first is IMPORTANT because it allows us to avoid multicollinearity"
   ]
  },
  {
   "cell_type": "code",
   "execution_count": 1,
   "id": "4db2012f",
   "metadata": {},
   "outputs": [],
   "source": [
    "import numpy as np\n",
    "import pandas as pd\n",
    "import matplotlib.pyplot as plt\n",
    "import seaborn as sns\n",
    "from matplotlib import rcParams\n",
    "rcParams['figure.figsize'] = 15, 5\n",
    "sns.set_style('darkgrid')"
   ]
  },
  {
   "cell_type": "code",
   "execution_count": 2,
   "id": "090d6eb7",
   "metadata": {},
   "outputs": [
    {
     "ename": "NameError",
     "evalue": "name 'titanic_data' is not defined",
     "output_type": "error",
     "traceback": [
      "\u001b[1;31m---------------------------------------------------------------------------\u001b[0m",
      "\u001b[1;31mNameError\u001b[0m                                 Traceback (most recent call last)",
      "\u001b[1;32m~\\AppData\\Local\\Temp\\ipykernel_20580\\3027674903.py\u001b[0m in \u001b[0;36m<module>\u001b[1;34m\u001b[0m\n\u001b[0;32m      4\u001b[0m \u001b[1;32mfrom\u001b[0m \u001b[0msklearn\u001b[0m\u001b[1;33m.\u001b[0m\u001b[0mmetrics\u001b[0m \u001b[1;32mimport\u001b[0m \u001b[0mconfusion_matrix\u001b[0m\u001b[1;33m\u001b[0m\u001b[1;33m\u001b[0m\u001b[0m\n\u001b[0;32m      5\u001b[0m \u001b[1;33m\u001b[0m\u001b[0m\n\u001b[1;32m----> 6\u001b[1;33m X = titanic_data[['PassengerId', 'Pclass', 'Age', 'SibSp', 'Parch', 'Fare','Sex_male', 'Embarked_Q',\n\u001b[0m\u001b[0;32m      7\u001b[0m                         'Embarked_S']]\n\u001b[0;32m      8\u001b[0m \u001b[0my\u001b[0m \u001b[1;33m=\u001b[0m \u001b[0mtitanic_data\u001b[0m\u001b[1;33m[\u001b[0m\u001b[1;34m'Survived'\u001b[0m\u001b[1;33m]\u001b[0m\u001b[1;33m\u001b[0m\u001b[1;33m\u001b[0m\u001b[0m\n",
      "\u001b[1;31mNameError\u001b[0m: name 'titanic_data' is not defined"
     ]
    }
   ],
   "source": [
    "from sklearn.model_selection import train_test_split\n",
    "from sklearn.linear_model import LogisticRegression\n",
    "from sklearn.metrics import classification_report\n",
    "from sklearn.metrics import confusion_matrix\n",
    "\n",
    "X = titanic_data[['PassengerId', 'Pclass', 'Age', 'SibSp', 'Parch', 'Fare','Sex_male', 'Embarked_Q',\n",
    "                        'Embarked_S']]\n",
    "y = titanic_data['Survived']\n",
    "\n",
    "# Split data into training and testing sets\n",
    "X_train, X_test, y_train, y_test = train_test_split(X, y, test_size=0.3)\n",
    "\n",
    "# Fit (train) training data to create a model\n",
    "logmodel = LogisticRegression(max_iter=1000)\n",
    "logmodel.fit(X_train,y_train)\n",
    "\n",
    "# Test the model using the unseen testing data (predict target variable given unseen data)\n",
    "predictions = logmodel.predict(X_test)\n",
    "\n",
    "# Evaluate the model's performance (see how accurate its predictions were)\n",
    "print(classification_report(y_test,predictions))\n",
    "print(confusion_matrix(y_test,predictions))"
   ]
  },
  {
   "cell_type": "code",
   "execution_count": null,
   "id": "639f3fa8",
   "metadata": {},
   "outputs": [],
   "source": []
  }
 ],
 "metadata": {
  "kernelspec": {
   "display_name": "Python 3 (ipykernel)",
   "language": "python",
   "name": "python3"
  },
  "language_info": {
   "codemirror_mode": {
    "name": "ipython",
    "version": 3
   },
   "file_extension": ".py",
   "mimetype": "text/x-python",
   "name": "python",
   "nbconvert_exporter": "python",
   "pygments_lexer": "ipython3",
   "version": "3.9.13"
  }
 },
 "nbformat": 4,
 "nbformat_minor": 5
}
