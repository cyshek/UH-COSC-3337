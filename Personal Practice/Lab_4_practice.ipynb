{
 "cells": [
  {
   "cell_type": "code",
   "execution_count": 3,
   "id": "769bc63e",
   "metadata": {},
   "outputs": [],
   "source": [
    "# my_df.describe()  ***gives you basic details of the data, like count, mean, st deviation, IQR, etc***\n",
    "# my_df.info()   ***Tells you how many values there for each feature/column; can check for missing values***\n",
    "# sns.pairplot(my_df)  ***Gives many plots of each feature; helps detect multicollinearity***\n",
    "# plt.show()\n",
    "# sns.histplot(my_df['...'])\n",
    "# plt.show()\n",
    "# sns.scatterplot(x = '....', y = '....', data = my_df)\n",
    "# plt.show()\n",
    "# sns.boxplot(x = '...', data = my_df)\n",
    "# plt.show()\n",
    "\n",
    "# Refer to the bottom for \"Creating a regression model\""
   ]
  },
  {
   "cell_type": "code",
   "execution_count": 4,
   "id": "58c7d394",
   "metadata": {},
   "outputs": [],
   "source": [
    "import numpy as np\n",
    "import pandas as pd\n",
    "import matplotlib.pyplot as plt\n",
    "import seaborn as sns\n",
    "from matplotlib import rcParams\n",
    "rcParams['figure.figsize'] = 15, 5\n",
    "sns.set_style('darkgrid')"
   ]
  },
  {
   "cell_type": "code",
   "execution_count": 5,
   "id": "f39e3d59",
   "metadata": {},
   "outputs": [
    {
     "ename": "NameError",
     "evalue": "name 'titanic_data' is not defined",
     "output_type": "error",
     "traceback": [
      "\u001b[1;31m---------------------------------------------------------------------------\u001b[0m",
      "\u001b[1;31mNameError\u001b[0m                                 Traceback (most recent call last)",
      "\u001b[1;32m~\\AppData\\Local\\Temp\\ipykernel_2708\\4130078432.py\u001b[0m in \u001b[0;36m<module>\u001b[1;34m\u001b[0m\n\u001b[0;32m      4\u001b[0m \u001b[1;32mfrom\u001b[0m \u001b[0msklearn\u001b[0m\u001b[1;33m.\u001b[0m\u001b[0mmetrics\u001b[0m \u001b[1;32mimport\u001b[0m \u001b[0mconfusion_matrix\u001b[0m\u001b[1;33m\u001b[0m\u001b[1;33m\u001b[0m\u001b[0m\n\u001b[0;32m      5\u001b[0m \u001b[1;33m\u001b[0m\u001b[0m\n\u001b[1;32m----> 6\u001b[1;33m X = titanic_data[['PassengerId', 'Pclass', 'Age', 'SibSp', 'Parch', 'Fare','Sex_male', 'Embarked_Q',\n\u001b[0m\u001b[0;32m      7\u001b[0m                         'Embarked_S']]\n\u001b[0;32m      8\u001b[0m \u001b[0my\u001b[0m \u001b[1;33m=\u001b[0m \u001b[0mtitanic_data\u001b[0m\u001b[1;33m[\u001b[0m\u001b[1;34m'Survived'\u001b[0m\u001b[1;33m]\u001b[0m\u001b[1;33m\u001b[0m\u001b[1;33m\u001b[0m\u001b[0m\n",
      "\u001b[1;31mNameError\u001b[0m: name 'titanic_data' is not defined"
     ]
    }
   ],
   "source": [
    "from sklearn.model_selection import train_test_split\n",
    "from sklearn.linear_model import LinearRegression\n",
    "\n",
    "X = housing_data[['Avg. Area Income', 'Avg. Area House Age', 'Avg. Area Number of Rooms', \n",
    "                  'Avg. Area Number of Bedrooms', 'Area Population']]\n",
    "y = housing_data['Price']\n",
    "\n",
    "# Split data into training and testing sets\n",
    "X_train, X_test, y_train, y_test = train_test_split(X, y, test_size=0.3)\n",
    "\n",
    "# Fit (train) training data to create a model\n",
    "lm = LinearRegression()\n",
    "lm.fit(X_train,y_train)\n",
    "\n",
    "# Test the model using the unseen testing data (predict target variable given unseen data)\n",
    "predictions = lm.predict(X_test)\n",
    "\n",
    "# Evaluate the model's performance (see how accurate its predictions were)\n",
    "# plt.scatter(y_test, predictions)    ***Ideally, we'd like a 45 degree line (the straighter the line, the better our predictions are)***"
   ]
  },
  {
   "cell_type": "code",
   "execution_count": null,
   "id": "42125d8d",
   "metadata": {},
   "outputs": [],
   "source": []
  }
 ],
 "metadata": {
  "kernelspec": {
   "display_name": "Python 3 (ipykernel)",
   "language": "python",
   "name": "python3"
  },
  "language_info": {
   "codemirror_mode": {
    "name": "ipython",
    "version": 3
   },
   "file_extension": ".py",
   "mimetype": "text/x-python",
   "name": "python",
   "nbconvert_exporter": "python",
   "pygments_lexer": "ipython3",
   "version": "3.9.13"
  }
 },
 "nbformat": 4,
 "nbformat_minor": 5
}
